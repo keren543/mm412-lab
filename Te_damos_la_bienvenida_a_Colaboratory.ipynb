{
  "cells": [
    {
      "cell_type": "markdown",
      "metadata": {
        "id": "view-in-github",
        "colab_type": "text"
      },
      "source": [
        "<a href=\"https://colab.research.google.com/github/keren543/mm412-lab/blob/main/Te_damos_la_bienvenida_a_Colaboratory.ipynb\" target=\"_parent\"><img src=\"https://colab.research.google.com/assets/colab-badge.svg\" alt=\"Open In Colab\"/></a>"
      ]
    },
    {
      "cell_type": "code",
      "source": [
        "import math\n",
        "#calcular la raiz cuadrada de x\n",
        "resultado = math.sqrt(x)\n",
        "print (¨la raiz cuadrada de 16 es:, resultado)\n"
      ],
      "metadata": {
        "id": "BsfPiqGPDLpX"
      },
      "execution_count": null,
      "outputs": []
    },
    {
      "cell_type": "markdown",
      "source": [
        "#math\n",
        "se utiliza para realizar operaciones matematica basicas de numeros escalares"
      ],
      "metadata": {
        "id": "Me6Z_rSREYpS"
      }
    },
    {
      "cell_type": "markdown",
      "source": [
        "#numpy\n",
        "se utiliza para trabajar con arreglos y operaciones matematicas de manera eficiente\n",
        "**texto en negrita**"
      ],
      "metadata": {
        "id": "-alou5nsGH-1"
      }
    },
    {
      "cell_type": "code",
      "source": [
        "import numpy as np\n",
        "arr=np,array([1,2,3,4])\n",
        "#realizar una operacion sobre el array\n",
        "squared=np.sqrt(art)#raiz cuadrada de cada elemento\n",
        "print(las raices cuadrada de los elemntos son:, squared)"
      ],
      "metadata": {
        "id": "xChbMSvyGfh5"
      },
      "execution_count": null,
      "outputs": []
    },
    {
      "cell_type": "markdown",
      "source": [
        "#matplotlib.pyplot\n",
        "se utiliza para crear graficos y visualizar datos"
      ],
      "metadata": {
        "id": "ur0LPUU-HRL8"
      }
    },
    {
      "cell_type": "code",
      "source": [
        "import matplotlib.pyplot as plt\n",
        "x= np.linspace(-10,10,100)#generar 100 puntos de -10 a 10\n",
        "y= x**2 #funciones cuadraticas\n",
        "plt.plot(x,y)\n",
        "plt.title(grafico de f(x)=x**2)\n",
        "plt."
      ],
      "metadata": {
        "id": "nGk_idf7Hiv_"
      },
      "execution_count": null,
      "outputs": []
    }
  ],
  "metadata": {
    "colab": {
      "name": "Te damos la bienvenida a Colaboratory",
      "toc_visible": true,
      "provenance": [],
      "include_colab_link": true
    },
    "kernelspec": {
      "display_name": "Python 3",
      "name": "python3"
    }
  },
  "nbformat": 4,
  "nbformat_minor": 0
}